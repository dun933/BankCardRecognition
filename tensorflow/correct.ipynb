{
 "cells": [
  {
   "cell_type": "code",
   "execution_count": 1,
   "metadata": {
    "collapsed": true
   },
   "outputs": [],
   "source": [
    "import cv2\n",
    "import sys\n",
    "import os\n",
    "import time\n",
    "import random\n",
    "import numpy as np\n",
    "import tensorflow as tf"
   ]
  },
  {
   "cell_type": "markdown",
   "metadata": {},
   "source": [
    "## 回调函数"
   ]
  },
  {
   "cell_type": "code",
   "execution_count": null,
   "metadata": {
    "collapsed": true
   },
   "outputs": [],
   "source": [
    "def CannyThreshold(lowThreshold):\n",
    "    detected_edges = cv2.Canny(detected_edges,\n",
    "                               lowThreshold,\n",
    "                               lowThreshold*ratio,\n",
    "                               apertureSize = kernel_size)\n",
    "    dst = cv2.bitwise_and(img,img,mask = detected_edges)  # just add some colours to edges from original image.\n",
    "    cv2.imshow('canny demo',dst)"
   ]
  },
  {
   "cell_type": "code",
   "execution_count": null,
   "metadata": {},
   "outputs": [
    {
     "name": "stdout",
     "output_type": "stream",
     "text": [
      "[[[  9.04000015e+01   1.58824956e+00]]\n",
      "\n",
      " [[  2.80800018e+02   1.57079637e+00]]\n",
      "\n",
      " [[  1.48800003e+02   1.57079637e+00]]\n",
      "\n",
      " [[  1.32000000e+02   1.57079637e+00]]\n",
      "\n",
      " [[  6.95999985e+01   8.72664601e-02]]\n",
      "\n",
      " [[  1.43199997e+02   1.57079637e+00]]]\n"
     ]
    }
   ],
   "source": [
    "SIZE = 1280\n",
    "WIDTH = 32\n",
    "HEIGHT = 32\n",
    "NUM_CLASSES = 34\n",
    "iterations = 1000\n",
    "# 测试图片名\n",
    "# 2_120811_aa81fa193f7e8b2.jpg\n",
    "dir = \"E:/SegCard/sample/\"\n",
    "filename = \"2_120811_aa81fa193f7e8b2.jpg\"\n",
    "src = cv2.imread(dir+filename)\n",
    "\n",
    "resize = cv2.resize(src,(600,400))\n",
    "gray = cv2.cvtColor(resize,cv2.COLOR_BGR2GRAY)\n",
    "cv2.equalizeHist(gray,gray)\n",
    "gaus = cv2.GaussianBlur(gray,(11,11),0)\n",
    "edges = cv2.Canny(gaus, 50, 150, apertureSize=3)\n",
    "\n",
    "# lines = cv2.HoughLinesP(edges,1,np.pi/180,160)\n",
    "# for line in lines:\n",
    "#     for x1, y1, x2, y2 in line:\n",
    "#         cv2.line(resize, (x1, y1), (x2, y2), (0, 255, 0), 2)\n",
    "lines = cv2.HoughLines(edges, 0.8, np.pi / 180, 80, 0, 0)\n",
    "# 3.将检测的线画出来（注意是极坐标噢）\n",
    "print(lines)\n",
    "for line in lines:\n",
    "    rho, theta = line[0]\n",
    "    a = np.cos(theta)\n",
    "    b = np.sin(theta)\n",
    "    x0 = a * rho\n",
    "    y0 = b * rho\n",
    "    x1 = int(x0 + 1000 * (-b))\n",
    "    y1 = int(y0 + 1000 * (a))\n",
    "    x2 = int(x0 - 1000 * (-b))\n",
    "    y2 = int(y0 - 1000 * (a))\n",
    "    cv2.line(resize, (x1, y1), (x2, y2), (0, 0, 255))\n",
    "\n",
    "cv2.imshow(\"houghline\",resize)\n",
    "cv2.imshow(\"edges\",edges)\n",
    "cv2.waitKey(0)"
   ]
  },
  {
   "cell_type": "code",
   "execution_count": null,
   "metadata": {
    "collapsed": true
   },
   "outputs": [],
   "source": []
  }
 ],
 "metadata": {
  "kernelspec": {
   "display_name": "Python 3",
   "language": "python",
   "name": "python3"
  },
  "language_info": {
   "codemirror_mode": {
    "name": "ipython",
    "version": 3
   },
   "file_extension": ".py",
   "mimetype": "text/x-python",
   "name": "python",
   "nbconvert_exporter": "python",
   "pygments_lexer": "ipython3",
   "version": "3.6.8"
  }
 },
 "nbformat": 4,
 "nbformat_minor": 2
}
